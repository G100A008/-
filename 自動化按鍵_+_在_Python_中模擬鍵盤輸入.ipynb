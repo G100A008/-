{
  "nbformat": 4,
  "nbformat_minor": 0,
  "metadata": {
    "colab": {
      "provenance": [],
      "authorship_tag": "ABX9TyOazO/VYr5qxmyIhwuLholP",
      "include_colab_link": true
    },
    "kernelspec": {
      "name": "python3",
      "display_name": "Python 3"
    },
    "language_info": {
      "name": "python"
    }
  },
  "cells": [
    {
      "cell_type": "markdown",
      "metadata": {
        "id": "view-in-github",
        "colab_type": "text"
      },
      "source": [
        "<a href=\"https://colab.research.google.com/github/G100A008/Python/blob/master/%E8%87%AA%E5%8B%95%E5%8C%96%E6%8C%89%E9%8D%B5_%2B_%E5%9C%A8_Python_%E4%B8%AD%E6%A8%A1%E6%93%AC%E9%8D%B5%E7%9B%A4%E8%BC%B8%E5%85%A5.ipynb\" target=\"_parent\"><img src=\"https://colab.research.google.com/assets/colab-badge.svg\" alt=\"Open In Colab\"/></a>"
      ]
    },
    {
      "cell_type": "code",
      "execution_count": null,
      "metadata": {
        "id": "JhcvmJOn70nd"
      },
      "outputs": [],
      "source": []
    }
  ]
}