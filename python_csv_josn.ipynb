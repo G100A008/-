{
  "nbformat": 4,
  "nbformat_minor": 0,
  "metadata": {
    "colab": {
      "provenance": [],
      "authorship_tag": "ABX9TyOi4whzu52DJjIXgbqLAxd1",
      "include_colab_link": true
    },
    "kernelspec": {
      "name": "python3",
      "display_name": "Python 3"
    },
    "language_info": {
      "name": "python"
    },
    "gpuClass": "standard"
  },
  "cells": [
    {
      "cell_type": "markdown",
      "metadata": {
        "id": "view-in-github",
        "colab_type": "text"
      },
      "source": [
        "<a href=\"https://colab.research.google.com/github/G100A008/Python/blob/master/python_csv_josn.ipynb\" target=\"_parent\"><img src=\"https://colab.research.google.com/assets/colab-badge.svg\" alt=\"Open In Colab\"/></a>"
      ]
    },
    {
      "cell_type": "code",
      "source": [
        "import csv\n",
        "exampleFile = open('example.csv')\n",
        "exampleReader = csv.reader(exampleFile)\n",
        "exampleData = list(exampleReader)\n",
        "exampleData"
      ],
      "metadata": {
        "colab": {
          "base_uri": "https://localhost:8080/"
        },
        "id": "B7mDiGHTvTgj",
        "outputId": "a9ca2c94-3e35-4a2d-bbfa-1449803e6ee0"
      },
      "execution_count": 2,
      "outputs": [
        {
          "output_type": "execute_result",
          "data": {
            "text/plain": [
              "[['4/5/2014 13:34', 'Apples', '73'],\n",
              " ['4/5/2014 3:41', 'Cherries', '85'],\n",
              " ['4/6/2014 12:46', 'Pears', '14'],\n",
              " ['4/8/2014 8:59', 'Oranges', '52'],\n",
              " ['4/10/2014 2:07', 'Apples', '152'],\n",
              " ['4/10/2014 18:10', 'Bananas', '23'],\n",
              " ['4/10/2014 2:40', 'Strawberries', '98']]"
            ]
          },
          "metadata": {},
          "execution_count": 2
        }
      ]
    }
  ]
}