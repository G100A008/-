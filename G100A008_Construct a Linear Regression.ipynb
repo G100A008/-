{
  "nbformat": 4,
  "nbformat_minor": 0,
  "metadata": {
    "colab": {
      "provenance": [],
      "include_colab_link": true
    },
    "kernelspec": {
      "name": "python3",
      "display_name": "Python 3"
    },
    "language_info": {
      "name": "python"
    }
  },
  "cells": [
    {
      "cell_type": "markdown",
      "metadata": {
        "id": "view-in-github",
        "colab_type": "text"
      },
      "source": [
        "<a href=\"https://colab.research.google.com/github/G100A008/Python/blob/master/G100A008_Construct%20a%20Linear%20Regression.ipynb\" target=\"_parent\"><img src=\"https://colab.research.google.com/assets/colab-badge.svg\" alt=\"Open In Colab\"/></a>"
      ]
    },
    {
      "cell_type": "code",
      "source": [
        "import pandas\n",
        "import numpy as np\n",
        "import matplotlib.pyplot as plt\n",
        "from sklearn.datasets import load_boston\n",
        "\n",
        "def simple_linear_regress(raw_x,raw_y):\n",
        "  n = np.size(raw_x)\n",
        "  x = np.array(raw_x)\n",
        "  y = np.array(raw_y)\n",
        "  x_mean = np.mean(x)\n",
        "  y_mean = np.mean(y)\n",
        "\n",
        "  num1 = np.sum(y*x) - n*y_mean*x_mean\n",
        "  num2 = np.sum(x*x) - n*x_mean*x_mean\n",
        "  b_1 = num1 / num2\n",
        "  b_0 = y_mean - b_1 * x_mean\n",
        "  return (b_0,b_1)"
      ],
      "metadata": {
        "id": "Wemw0JiU2Q0E"
      },
      "execution_count": 2,
      "outputs": []
    },
    {
      "cell_type": "code",
      "source": [
        "rawData = load_boston()\n",
        "bostonDataset = pandas.DataFrame(rawData.data,columns=rawData.feature_names)\n",
        "bostonDataset['MEDV'] = rawData.target"
      ],
      "metadata": {
        "id": "nFd-exVh30AK",
        "outputId": "a3602f87-6a99-4eda-f648-fdbbc90a1e5e",
        "colab": {
          "base_uri": "https://localhost:8080/"
        }
      },
      "execution_count": 6,
      "outputs": [
        {
          "output_type": "stream",
          "name": "stderr",
          "text": [
            "/usr/local/lib/python3.8/dist-packages/sklearn/utils/deprecation.py:87: FutureWarning: Function load_boston is deprecated; `load_boston` is deprecated in 1.0 and will be removed in 1.2.\n",
            "\n",
            "    The Boston housing prices dataset has an ethical problem. You can refer to\n",
            "    the documentation of this function for further details.\n",
            "\n",
            "    The scikit-learn maintainers therefore strongly discourage the use of this\n",
            "    dataset unless the purpose of the code is to study and educate about\n",
            "    ethical issues in data science and machine learning.\n",
            "\n",
            "    In this special case, you can fetch the dataset from the original\n",
            "    source::\n",
            "\n",
            "        import pandas as pd\n",
            "        import numpy as np\n",
            "\n",
            "\n",
            "        data_url = \"http://lib.stat.cmu.edu/datasets/boston\"\n",
            "        raw_df = pd.read_csv(data_url, sep=\"\\s+\", skiprows=22, header=None)\n",
            "        data = np.hstack([raw_df.values[::2, :], raw_df.values[1::2, :2]])\n",
            "        target = raw_df.values[1::2, 2]\n",
            "\n",
            "    Alternative datasets include the California housing dataset (i.e.\n",
            "    :func:`~sklearn.datasets.fetch_california_housing`) and the Ames housing\n",
            "    dataset. You can load the datasets as follows::\n",
            "\n",
            "        from sklearn.datasets import fetch_california_housing\n",
            "        housing = fetch_california_housing()\n",
            "\n",
            "    for the California housing dataset and::\n",
            "\n",
            "        from sklearn.datasets import fetch_openml\n",
            "        housing = fetch_openml(name=\"house_prices\", as_frame=True)\n",
            "\n",
            "    for the Ames housing dataset.\n",
            "    \n",
            "  warnings.warn(msg, category=FutureWarning)\n"
          ]
        }
      ]
    },
    {
      "cell_type": "code",
      "source": [
        "x = np.array(bostonDataset['LSTAT'])[:,np.newaxis]\n",
        "y = np.array(bostonDataset['MEDV'])[:,np.newaxis]"
      ],
      "metadata": {
        "id": "9Pa69jp15COJ"
      },
      "execution_count": 5,
      "outputs": []
    },
    {
      "cell_type": "code",
      "source": [
        "b0,b1 = simple_linear_regress(x,y)\n",
        "bf1_x = x\n",
        "bf1_y = b0 + b1 *bf1_x"
      ],
      "metadata": {
        "id": "val2glvJ5WB5"
      },
      "execution_count": 11,
      "outputs": []
    }
  ]
}