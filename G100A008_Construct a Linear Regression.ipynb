{
  "nbformat": 4,
  "nbformat_minor": 0,
  "metadata": {
    "colab": {
      "provenance": [],
      "include_colab_link": true
    },
    "kernelspec": {
      "name": "python3",
      "display_name": "Python 3"
    },
    "language_info": {
      "name": "python"
    }
  },
  "cells": [
    {
      "cell_type": "markdown",
      "metadata": {
        "id": "view-in-github",
        "colab_type": "text"
      },
      "source": [
        "<a href=\"https://colab.research.google.com/github/G100A008/Python/blob/master/G100A008_Construct%20a%20Linear%20Regression.ipynb\" target=\"_parent\"><img src=\"https://colab.research.google.com/assets/colab-badge.svg\" alt=\"Open In Colab\"/></a>"
      ]
    },
    {
      "cell_type": "code",
      "source": [
        "import pandas\n",
        "import numpy as np\n",
        "import matplotlib.pyplot as plt\n",
        "from sklearn.datasets import load_boston\n",
        "\n",
        "def simple_linear_regress(raw_x,raw_y):\n",
        "  n = np.size(raw_x)\n",
        "  x = np.array(raw_x)\n",
        "  y = np.array(raw_y)\n",
        "  x_mean = np.mean(x)\n",
        "  y_mean = np.mean(y)\n",
        "\n",
        "  num1 = np.sum(y*x) - n*y_mean*x_mean\n",
        "  num2 = np.sum(x*x) - n*x_mean*x_mean\n",
        "  b_1 = num1 / num2\n",
        "  b_0 = y_mean - b_1 * x_mean\n",
        "  return (b_0,b_1)"
      ],
      "metadata": {
        "id": "Wemw0JiU2Q0E"
      },
      "execution_count": 3,
      "outputs": []
    },
    {
      "cell_type": "code",
      "source": [
        "rawData = load_boston()\n",
        "bostonDataset = "
      ],
      "metadata": {
        "id": "nFd-exVh30AK"
      },
      "execution_count": null,
      "outputs": []
    }
  ]
}