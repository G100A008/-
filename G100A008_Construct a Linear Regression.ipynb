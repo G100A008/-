{
  "nbformat": 4,
  "nbformat_minor": 0,
  "metadata": {
    "colab": {
      "provenance": [],
      "include_colab_link": true
    },
    "kernelspec": {
      "name": "python3",
      "display_name": "Python 3"
    },
    "language_info": {
      "name": "python"
    }
  },
  "cells": [
    {
      "cell_type": "markdown",
      "metadata": {
        "id": "view-in-github",
        "colab_type": "text"
      },
      "source": [
        "<a href=\"https://colab.research.google.com/github/G100A008/Python/blob/master/G100A008_Construct%20a%20Linear%20Regression.ipynb\" target=\"_parent\"><img src=\"https://colab.research.google.com/assets/colab-badge.svg\" alt=\"Open In Colab\"/></a>"
      ]
    },
    {
      "cell_type": "code",
      "source": [
        "import pandas\n",
        "import numpy as np\n",
        "import matplotlib.pyplot as plt\n",
        "from sklearn.datasets import load_boston\n",
        "\n",
        "def simple_linear_regress(raw_x,raw_y):\n",
        "  n = np.size(raw_x)\n",
        "  x = np.array(raw_x)\n",
        "  y = np.array(raw_y)\n",
        "  x_mean = np.mean(x)\n",
        "  y_mean = np.mean(y)\n",
        "\n",
        "  num1 = np.sum(y*x) - n*y_mean*x_mean\n",
        "  num2 = np.sum(x*x) - n*x_mean*x_mean\n",
        "  b_1 = num1 / num2\n",
        "  b_0 = y_mean - b_1 * x_mean\n",
        "  return (b_0,b_1)\n",
        "\n",
        "  rawData = load_boston()\n",
        "  bostonDataset = pandas.DataFrame(rawData.data,columns=rawData.feature_names)\n",
        "  bostonDataset['MEDV'] = rawData.target\n",
        "\n",
        "  x = np.array(bostonDataset['LSTAT'])[:,np.newaxis]\n",
        "  y = np.array(bostonDataset['MEDV'])[:,np.newaxis]\n",
        "\n",
        "  b0,b1 = simple_linear_regress(x,y)\n",
        "  bf1_x = x\n",
        "  bf1_y = b0 + b1 *bf1_x\n",
        "\n",
        "  plt.scatter(x,y)\n",
        "  plt.plot(bf1_x,bf1_y,color = \"r\")\n",
        "\n",
        "  plt.xlabel('LSTAT')\n",
        "  plt.ylabel('MEDV')\n",
        "\n",
        "  plt.show()\n",
        "  print('The intercept of the best fitting line is',b0)\n",
        "  print('The slope of the best fitting line is',b1)"
      ],
      "metadata": {
        "id": "Wemw0JiU2Q0E"
      },
      "execution_count": 52,
      "outputs": []
    },
    {
      "cell_type": "code",
      "source": [
        "import numpy as np\n",
        "import matplotlib.pyplot as plt\n",
        "\n",
        "def func(x):return np.square(x)\n",
        "\n",
        "def dfunc(x):return 2 * x\n",
        "\n",
        "def GD(x_start,df,epochs,lr):\n",
        "  \"\"\"\n",
        "  梯度下降法\n",
        "  \"\"\"\n",
        "  xs = np.zeros(epochs+1)\n",
        "  x = x_start\n",
        "  xs[0] = x\n",
        "  for i in range(epochs):\n",
        "    dx = df(x)\n",
        "\n",
        "    v = - dx * lr\n",
        "    x += v\n",
        "    xs[i+1] = x\n",
        "  return xs\n",
        "\n",
        "  x_start = 5\n",
        "\n",
        "  epochs = 15\n",
        "\n",
        "  lr = 0.3\n",
        "\n",
        "  x = GD(x_star,dfunc,epochs,lr=lr)\n",
        "  print(x)\n",
        "\n",
        "  color = 'r'\n",
        "\n",
        "  \n",
        "  from numpy import arange\n",
        "  t = arange(-6.0,6.0,0.01)\n",
        "  plt.plot(t,func(t),c='b') \n",
        "  plt.plot(x,func(x),c=color,label='lr={}'.format(lr))\n",
        "  plt.scatter(x,func(x),c=color,)\n",
        "  plt.legend()\n",
        "  plt.show()"
      ],
      "metadata": {
        "id": "DbMixJbTrnKU"
      },
      "execution_count": 53,
      "outputs": []
    }
  ]
}