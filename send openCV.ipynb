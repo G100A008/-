{
  "nbformat": 4,
  "nbformat_minor": 0,
  "metadata": {
    "colab": {
      "provenance": [],
      "authorship_tag": "ABX9TyP4/Y77hreRSkPRzx7fWrwL",
      "include_colab_link": true
    },
    "kernelspec": {
      "name": "python3",
      "display_name": "Python 3"
    },
    "language_info": {
      "name": "python"
    }
  },
  "cells": [
    {
      "cell_type": "markdown",
      "metadata": {
        "id": "view-in-github",
        "colab_type": "text"
      },
      "source": [
        "<a href=\"https://colab.research.google.com/github/G100A008/Python/blob/master/send%20openCV.ipynb\" target=\"_parent\"><img src=\"https://colab.research.google.com/assets/colab-badge.svg\" alt=\"Open In Colab\"/></a>"
      ]
    },
    {
      "cell_type": "code",
      "execution_count": 18,
      "metadata": {
        "colab": {
          "base_uri": "https://localhost:8080/",
          "height": 368
        },
        "id": "1MgK5Jpj5OHd",
        "outputId": "a91e8c65-d625-419b-9299-99123fdd803c"
      },
      "outputs": [
        {
          "output_type": "error",
          "ename": "ModuleNotFoundError",
          "evalue": "ignored",
          "traceback": [
            "\u001b[0;31m---------------------------------------------------------------------------\u001b[0m",
            "\u001b[0;31mModuleNotFoundError\u001b[0m                       Traceback (most recent call last)",
            "\u001b[0;32m<ipython-input-18-a1505a62b46f>\u001b[0m in \u001b[0;36m<module>\u001b[0;34m\u001b[0m\n\u001b[1;32m      1\u001b[0m \u001b[0;32mimport\u001b[0m \u001b[0mcv2\u001b[0m\u001b[0;34m\u001b[0m\u001b[0;34m\u001b[0m\u001b[0m\n\u001b[0;32m----> 2\u001b[0;31m \u001b[0;32mfrom\u001b[0m \u001b[0mdarkflow\u001b[0m\u001b[0;34m.\u001b[0m\u001b[0mnet\u001b[0m\u001b[0;34m.\u001b[0m\u001b[0mbuild\u001b[0m \u001b[0;32mimport\u001b[0m \u001b[0mTFNet\u001b[0m\u001b[0;34m\u001b[0m\u001b[0;34m\u001b[0m\u001b[0m\n\u001b[0m\u001b[1;32m      3\u001b[0m \u001b[0;32mimport\u001b[0m \u001b[0mnumpy\u001b[0m \u001b[0;32mas\u001b[0m \u001b[0mnp\u001b[0m\u001b[0;34m\u001b[0m\u001b[0;34m\u001b[0m\u001b[0m\n\u001b[1;32m      4\u001b[0m \u001b[0;32mimport\u001b[0m \u001b[0mtime\u001b[0m\u001b[0;34m\u001b[0m\u001b[0;34m\u001b[0m\u001b[0m\n\u001b[1;32m      5\u001b[0m \u001b[0;32mimport\u001b[0m \u001b[0mpafy\u001b[0m\u001b[0;34m\u001b[0m\u001b[0;34m\u001b[0m\u001b[0m\n",
            "\u001b[0;31mModuleNotFoundError\u001b[0m: No module named 'darkflow'",
            "",
            "\u001b[0;31m---------------------------------------------------------------------------\u001b[0;32m\nNOTE: If your import is failing due to a missing package, you can\nmanually install dependencies using either !pip or !apt.\n\nTo view examples of installing some common dependencies, click the\n\"Open Examples\" button below.\n\u001b[0;31m---------------------------------------------------------------------------\u001b[0m\n"
          ],
          "errorDetails": {
            "actions": [
              {
                "action": "open_url",
                "actionText": "Open Examples",
                "url": "/notebooks/snippets/importing_libraries.ipynb"
              }
            ]
          }
        }
      ],
      "source": [
        "import cv2\n",
        "from darkflow.net.build import TFNet\n",
        "import numpy as np\n",
        "import time\n",
        "import pafy\n",
        "\n",
        "\n",
        "\n",
        "options = {\n",
        "    'model': 'cfg/tiny-yolo.cfg',\n",
        "    'load': 'bin/yolov2-tiny.weights',\n",
        "    'threshold': 0.2,\n",
        "    'gpu': 0.75\n",
        "}\n",
        "\n",
        "tfnet = TFNet(options)\n",
        "colors = [tuple(255 * np.random.rand(3)) for _ in range(10)]\n",
        "\n",
        "capture = cv2.VideoCapture()\n",
        "capture.open(\"rtmp://888888888888888\")\n",
        "\n",
        "fourcc = cv2.VideoWriter_fourcc(*'XVID')\n",
        "out = cv2.VideoWriter('output.avi',fourcc, 20.0, (640,480))\n",
        "\n",
        "#capture = cv2.VideoCapture(url)\n",
        "capture.set(cv2.CAP_PROP_FRAME_WIDTH, 1920)\n",
        "capture.set(cv2.CAP_PROP_FRAME_HEIGHT, 1080)\n",
        "\n",
        "while True:\n",
        "    stime = time.time()\n",
        "    ret, frame = capture.read()\n",
        "    if ret:\n",
        "        results = tfnet.return_predict(frame)\n",
        "\n",
        "\n",
        "        for color, result in zip(colors, results):\n",
        "            if result['label'] == 'person':\n",
        "                tl = (result['topleft']['x'], result['topleft']['y'])\n",
        "                br = (result['bottomright']['x'], result['bottomright']['y'])\n",
        "                label = result['label']\n",
        "                confidence = result['confidence']\n",
        "                text = '{}: {:.0f}%'.format(label, confidence * 100)\n",
        "                frame = cv2.rectangle(frame, tl, br, color, 5)\n",
        "                frame = cv2.putText(\n",
        "                    frame, text, tl, cv2.FONT_HERSHEY_COMPLEX, 0.8, (0, 0, 0), 2)\n",
        "                out.write(frame)\n",
        "        cv2.imshow('frame', frame)\n",
        "        print('FPS {:.1f}'.format(1 / (time.time() - stime)))\n",
        "    if cv2.waitKey(1) & 0xFF == ord('q'):\n",
        "        break\n",
        "\n",
        "capture.release()\n",
        "out.release()\n",
        "cv2.destroyAllWindows()"
      ]
    }
  ]
}