{
  "nbformat": 4,
  "nbformat_minor": 0,
  "metadata": {
    "colab": {
      "provenance": [],
      "authorship_tag": "ABX9TyO4XJ8gyd2MHQrb9u31I/p7",
      "include_colab_link": true
    },
    "kernelspec": {
      "name": "python3",
      "display_name": "Python 3"
    },
    "language_info": {
      "name": "python"
    }
  },
  "cells": [
    {
      "cell_type": "markdown",
      "metadata": {
        "id": "view-in-github",
        "colab_type": "text"
      },
      "source": [
        "<a href=\"https://colab.research.google.com/github/G100A008/Python/blob/master/send%20openCV.ipynb\" target=\"_parent\"><img src=\"https://colab.research.google.com/assets/colab-badge.svg\" alt=\"Open In Colab\"/></a>"
      ]
    },
    {
      "cell_type": "code",
      "execution_count": 11,
      "metadata": {
        "colab": {
          "base_uri": "https://localhost:8080/",
          "height": 130
        },
        "id": "1MgK5Jpj5OHd",
        "outputId": "ceeb52b9-e372-45f7-873a-fe27b7e5d031"
      },
      "outputs": [
        {
          "output_type": "error",
          "ename": "SyntaxError",
          "evalue": "ignored",
          "traceback": [
            "\u001b[0;36m  File \u001b[0;32m\"<ipython-input-11-c7196cb80e1b>\"\u001b[0;36m, line \u001b[0;32m2\u001b[0m\n\u001b[0;31m    from darkflow.net.build\u001b[0m\n\u001b[0m                            ^\u001b[0m\n\u001b[0;31mSyntaxError\u001b[0m\u001b[0;31m:\u001b[0m invalid syntax\n"
          ]
        }
      ],
      "source": [
        "import cv2\n",
        "from darkflow.net.build \n",
        "import TFNet\n",
        "import numpy as np\n",
        "import time\n",
        "import pafy\n",
        "\n",
        "options = {\n",
        "    'model': 'cfg/tiny-yolo.cfg',\n",
        "    'load': 'bin/yolov2-tiny.weights',\n",
        "    'threshold': 0.2,\n",
        "    'gpu': 0.75\n",
        "}\n",
        "\n",
        "tfnet = TFNet(options)\n",
        "colors = [tuple(255 * np.random.rand(3)) for _ in range(10)]\n",
        "\n",
        "capture = cv2.VideoCapture()\n",
        "capture.open(\"rtmp://888888888888888\")\n",
        "\n",
        "fourcc = cv2.VideoWriter_fourcc(*'XVID')\n",
        "out = cv2.VideoWriter('output.avi',fourcc, 20.0, (640,480))\n",
        "\n",
        "#capture = cv2.VideoCapture(url)\n",
        "capture.set(cv2.CAP_PROP_FRAME_WIDTH, 1920)\n",
        "capture.set(cv2.CAP_PROP_FRAME_HEIGHT, 1080)\n",
        "\n",
        "while True:\n",
        "    stime = time.time()\n",
        "    ret, frame = capture.read()\n",
        "    if ret:\n",
        "        results = tfnet.return_predict(frame)\n",
        "\n",
        "\n",
        "        for color, result in zip(colors, results):\n",
        "            if result['label'] == 'person':\n",
        "                tl = (result['topleft']['x'], result['topleft']['y'])\n",
        "                br = (result['bottomright']['x'], result['bottomright']['y'])\n",
        "                label = result['label']\n",
        "                confidence = result['confidence']\n",
        "                text = '{}: {:.0f}%'.format(label, confidence * 100)\n",
        "                frame = cv2.rectangle(frame, tl, br, color, 5)\n",
        "                frame = cv2.putText(\n",
        "                    frame, text, tl, cv2.FONT_HERSHEY_COMPLEX, 0.8, (0, 0, 0), 2)\n",
        "                out.write(frame)\n",
        "        cv2.imshow('frame', frame)\n",
        "        print('FPS {:.1f}'.format(1 / (time.time() - stime)))\n",
        "    if cv2.waitKey(1) & 0xFF == ord('q'):\n",
        "        break\n",
        "\n",
        "capture.release()\n",
        "out.release()\n",
        "cv2.destroyAllWindows()"
      ]
    }
  ]
}