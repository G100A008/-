{
  "nbformat": 4,
  "nbformat_minor": 0,
  "metadata": {
    "colab": {
      "name": "G100A008_scikit-learn.ipynb",
      "provenance": [],
      "collapsed_sections": [],
      "authorship_tag": "ABX9TyN4QXSbbjqY33nfSP1TdsHI",
      "include_colab_link": true
    },
    "kernelspec": {
      "name": "python3",
      "display_name": "Python 3"
    },
    "language_info": {
      "name": "python"
    }
  },
  "cells": [
    {
      "cell_type": "markdown",
      "metadata": {
        "id": "view-in-github",
        "colab_type": "text"
      },
      "source": [
        "<a href=\"https://colab.research.google.com/github/G100A008/-/blob/master/G100A008_scikit_learn.ipynb\" target=\"_parent\"><img src=\"https://colab.research.google.com/assets/colab-badge.svg\" alt=\"Open In Colab\"/></a>"
      ]
    },
    {
      "cell_type": "code",
      "execution_count": null,
      "metadata": {
        "colab": {
          "base_uri": "https://localhost:8080/",
          "height": 37
        },
        "id": "haG0nYWZI7-c",
        "outputId": "56612087-82de-4439-f48f-45e84aaeaf66"
      },
      "outputs": [
        {
          "output_type": "execute_result",
          "data": {
            "text/plain": [
              "'1.0.2'"
            ],
            "application/vnd.google.colaboratory.intrinsic+json": {
              "type": "string"
            }
          },
          "metadata": {},
          "execution_count": 1
        }
      ],
      "source": [
        "import sklearn\n",
        "sklearn.__version__"
      ]
    },
    {
      "cell_type": "code",
      "source": [
        "from sklearn import linear_model\n",
        "\n",
        "reg = linear_model.LinearRegression()\n",
        "reg.fit([[0,0],[1,1],[2,2]],[0,1,2])"
      ],
      "metadata": {
        "id": "LvNfdz83J6EF",
        "colab": {
          "base_uri": "https://localhost:8080/"
        },
        "outputId": "ff8c576a-4828-45af-a712-c5e647fa667e"
      },
      "execution_count": null,
      "outputs": [
        {
          "output_type": "execute_result",
          "data": {
            "text/plain": [
              "LinearRegression()"
            ]
          },
          "metadata": {},
          "execution_count": 1
        }
      ]
    },
    {
      "cell_type": "code",
      "source": [
        "reg.coef_"
      ],
      "metadata": {
        "colab": {
          "base_uri": "https://localhost:8080/"
        },
        "id": "md4UT54GnxkY",
        "outputId": "c3d9047c-3956-465d-f42d-8a47ba69268e"
      },
      "execution_count": null,
      "outputs": [
        {
          "output_type": "execute_result",
          "data": {
            "text/plain": [
              "array([0.5, 0.5])"
            ]
          },
          "metadata": {},
          "execution_count": 2
        }
      ]
    },
    {
      "cell_type": "code",
      "source": [
        "reg.intercept_"
      ],
      "metadata": {
        "colab": {
          "base_uri": "https://localhost:8080/"
        },
        "id": "-J3L6Bchn3SL",
        "outputId": "a0606ac4-6141-4471-c01b-266c32f8ce6a"
      },
      "execution_count": null,
      "outputs": [
        {
          "output_type": "execute_result",
          "data": {
            "text/plain": [
              "1.1102230246251565e-16"
            ]
          },
          "metadata": {},
          "execution_count": 3
        }
      ]
    },
    {
      "cell_type": "code",
      "source": [
        "# \"np\" and \"plt\" are common aliases for NumPy and Matplotlib, respectively.\n",
        "import numpy as np\n",
        "import matplotlib.pyplot as plt\n",
        "\n",
        "# X represents the features of our training data, the diameters of the pizzas.\n",
        "# A scikit-learn convention is to name the matrix of feature vectors X. \n",
        "# Uppercase letters indicate matrices, and lowercase letters indicate vectors.\n",
        "X = np.array([6, 8, 10, 14, 18]).reshape(-1, 1)\n",
        "\n",
        "# y is a vector representing the prices of the pizzas.\n",
        "# X軸代表披薩直徑\n",
        "# y軸代表披薩價格\n",
        "y = [7, 9, 13, 17.5, 18]\n",
        "\n",
        "plt.figure()\n",
        "plt.title('Pizza price plotted against diameter')\n",
        "plt.xlabel('Diameter in inches')\n",
        "plt.ylabel('Price in dollars')\n",
        "plt.plot(X, y, 'k.')\n",
        "plt.axis([0, 25, 0, 25])\n",
        "plt.grid(True)\n",
        "plt.show()"
      ],
      "metadata": {
        "colab": {
          "base_uri": "https://localhost:8080/",
          "height": 295
        },
        "id": "tJZqpoeGoRfL",
        "outputId": "b71466ec-06d7-4e51-c5c4-aa0d2368e06d"
      },
      "execution_count": null,
      "outputs": [
        {
          "output_type": "display_data",
          "data": {
            "text/plain": [
              "<Figure size 432x288 with 1 Axes>"
            ],
            "image/png": "[encoded data removed]"
          },
          "metadata": {
            "needs_background": "light"
          }
        }
      ]
    },
    {
      "cell_type": "code",
      "source": [
        "import numpy as np\n",
        "from sklearn.linear_model import LinearRegression\n",
        "\n",
        "X = np.array([6, 8, 10, 14, 18]).reshape(-1, 1)\n",
        "y = [7, 9, 13, 17.5, 18]\n",
        "\n",
        "# Create an instance of the estimator, LinearRegression\n",
        "model = LinearRegression()\n",
        "# Fit the model on the training data\n",
        "model.fit(X, y)\n",
        "# Predict the price of a pizza with a diameter that has never been seen before\n",
        "# 預測多少直徑的披薩多少錢\n",
        "test_pizza = np.array([[20]])\n",
        "predicted_price = model.predict(test_pizza)[0]\n",
        "print('A 20\" pizza should cost: $%.2f' % predicted_price)"
      ],
      "metadata": {
        "colab": {
          "base_uri": "https://localhost:8080/"
        },
        "id": "fI2oVL0isr-4",
        "outputId": "579d0810-e5e6-4cb8-b92b-a3f4db293483"
      },
      "execution_count": null,
      "outputs": [
        {
          "output_type": "stream",
          "name": "stdout",
          "text": [
            "A 20\" pizza should cost: $21.49\n"
          ]
        }
      ]
    },
    {
      "cell_type": "code",
      "source": [
        "import numpy as np\n",
        "from sklearn.linear_model import LinearRegression\n",
        "\n",
        "X = np.array([6, 8, 10, 14, 18]).reshape(-1, 1)\n",
        "y = [7, 9, 13, 17.5, 18]\n",
        "\n",
        "# Create an instance of the estimator, LinearRegression\n",
        "model = LinearRegression()\n",
        "# Fit the model on the training data\n",
        "model.fit(X, y)\n",
        "# Predict the price of a pizza with a diameter that has never been seen before\n",
        "# 預測多少直徑的披薩多少錢\n",
        "test_pizza = np.array([[200]])\n",
        "predicted_price = model.predict(test_pizza)[0]\n",
        "print('A 200\" pizza should cost: $%.2f' % predicted_price)"
      ],
      "metadata": {
        "colab": {
          "base_uri": "https://localhost:8080/"
        },
        "id": "bPIv_NFwtcjP",
        "outputId": "6352e4df-f226-4276-f7e0-22faa3db5583"
      },
      "execution_count": null,
      "outputs": [
        {
          "output_type": "stream",
          "name": "stdout",
          "text": [
            "A 200\" pizza should cost: $197.22\n"
          ]
        }
      ]
    },
    {
      "cell_type": "code",
      "source": [
        "import numpy as np\n",
        "import matplotlib.pyplot as plt\n",
        "\n",
        "x = np.arange(0,5,0.1)\n",
        "x"
      ],
      "metadata": {
        "colab": {
          "base_uri": "https://localhost:8080/"
        },
        "id": "VR5yP_BLtnl-",
        "outputId": "c3a13463-c300-468c-d04b-4366b20e9048"
      },
      "execution_count": 1,
      "outputs": [
        {
          "output_type": "execute_result",
          "data": {
            "text/plain": [
              "array([0. , 0.1, 0.2, 0.3, 0.4, 0.5, 0.6, 0.7, 0.8, 0.9, 1. , 1.1, 1.2,\n",
              "       1.3, 1.4, 1.5, 1.6, 1.7, 1.8, 1.9, 2. , 2.1, 2.2, 2.3, 2.4, 2.5,\n",
              "       2.6, 2.7, 2.8, 2.9, 3. , 3.1, 3.2, 3.3, 3.4, 3.5, 3.6, 3.7, 3.8,\n",
              "       3.9, 4. , 4.1, 4.2, 4.3, 4.4, 4.5, 4.6, 4.7, 4.8, 4.9])"
            ]
          },
          "metadata": {},
          "execution_count": 1
        }
      ]
    },
    {
      "cell_type": "code",
      "source": [
        "y = np.sin(x)\n",
        "y"
      ],
      "metadata": {
        "colab": {
          "base_uri": "https://localhost:8080/"
        },
        "id": "CgrwE047OBk5",
        "outputId": "455ece9b-9887-4e5c-948e-9842479c4595"
      },
      "execution_count": 2,
      "outputs": [
        {
          "output_type": "execute_result",
          "data": {
            "text/plain": [
              "array([ 0.        ,  0.09983342,  0.19866933,  0.29552021,  0.38941834,\n",
              "        0.47942554,  0.56464247,  0.64421769,  0.71735609,  0.78332691,\n",
              "        0.84147098,  0.89120736,  0.93203909,  0.96355819,  0.98544973,\n",
              "        0.99749499,  0.9995736 ,  0.99166481,  0.97384763,  0.94630009,\n",
              "        0.90929743,  0.86320937,  0.8084964 ,  0.74570521,  0.67546318,\n",
              "        0.59847214,  0.51550137,  0.42737988,  0.33498815,  0.23924933,\n",
              "        0.14112001,  0.04158066, -0.05837414, -0.15774569, -0.2555411 ,\n",
              "       -0.35078323, -0.44252044, -0.52983614, -0.61185789, -0.68776616,\n",
              "       -0.7568025 , -0.81827711, -0.87157577, -0.91616594, -0.95160207,\n",
              "       -0.97753012, -0.993691  , -0.99992326, -0.99616461, -0.98245261])"
            ]
          },
          "metadata": {},
          "execution_count": 2
        }
      ]
    },
    {
      "cell_type": "code",
      "source": [
        "plt.plot(x,y)"
      ],
      "metadata": {
        "colab": {
          "base_uri": "https://localhost:8080/",
          "height": 282
        },
        "id": "xpSONlbZOEzn",
        "outputId": "5e45039e-1033-4f1d-be68-fc9118a11527"
      },
      "execution_count": 3,
      "outputs": [
        {
          "output_type": "execute_result",
          "data": {
            "text/plain": [
              "[<matplotlib.lines.Line2D at 0x7f686cf67d50>]"
            ]
          },
          "metadata": {},
          "execution_count": 3
        },
        {
          "output_type": "display_data",
          "data": {
            "text/plain": [
              "<Figure size 432x288 with 1 Axes>"
            ],
            "image/png": "[encoded data removed]"
          },
          "metadata": {
            "needs_background": "light"
          }
        }
      ]
    }
  ]
}