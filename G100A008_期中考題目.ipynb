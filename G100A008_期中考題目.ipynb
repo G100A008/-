{
  "nbformat": 4,
  "nbformat_minor": 0,
  "metadata": {
    "colab": {
      "provenance": [],
      "authorship_tag": "ABX9TyM3LHQs3N8ZND9NVSiKb6Ei",
      "include_colab_link": true
    },
    "kernelspec": {
      "name": "python3",
      "display_name": "Python 3"
    },
    "language_info": {
      "name": "python"
    },
    "gpuClass": "standard"
  },
  "cells": [
    {
      "cell_type": "markdown",
      "metadata": {
        "id": "view-in-github",
        "colab_type": "text"
      },
      "source": [
        "<a href=\"https://colab.research.google.com/github/G100A008/Python/blob/master/G100A008_%E6%9C%9F%E4%B8%AD%E8%80%83%E9%A1%8C%E7%9B%AE.ipynb\" target=\"_parent\"><img src=\"https://colab.research.google.com/assets/colab-badge.svg\" alt=\"Open In Colab\"/></a>"
      ]
    },
    {
      "cell_type": "code",
      "source": [
        "import pandas as pd\n",
        "\n",
        "# 讀取 Excel 檔案\n",
        "df = pd.read_excel('第一題資料.xlsx')\n",
        "\n",
        "# 印出 DataFrame 內容\n",
        "print(df)"
      ],
      "metadata": {
        "id": "A1LYJSeoBYOV",
        "outputId": "d994e1d9-6ce1-4ca0-fe25-0f3725c4c3cf",
        "colab": {
          "base_uri": "https://localhost:8080/"
        }
      },
      "execution_count": 36,
      "outputs": [
        {
          "output_type": "stream",
          "name": "stdout",
          "text": [
            "                  Unnamed: 0    Unnamed: 1  \\\n",
            "0                        NaN           NaN   \n",
            "1                       財產編號            品名   \n",
            "2            2010301-I3  4-4   I3301教室整修工程   \n",
            "3            2010301-I3  5-5   I3302教室整修工程   \n",
            "4            2010301-I5  4-4  自動光學檢測實驗室建置費   \n",
            "...                      ...           ...   \n",
            "1030  65010301-01  1554-1554           辦公桌   \n",
            "1031  65010301-01  1555-1555           辦公桌   \n",
            "1032      65010301-06  60-60            書櫃   \n",
            "1033    65010301-11  666-671           電腦桌   \n",
            "1034    65010304-02  185-193           迴轉椅   \n",
            "\n",
            "                                             Unnamed: 2 Unnamed: 3 Unnamed: 4  \\\n",
            "0                                                   NaN        NaN        NaN   \n",
            "1                                                    規格         廠牌         型號   \n",
            "2     包括電源佈線工程包含電源配線；雙連附接地型插座*30座；62點網路佈線及冷氣管路美化裝修，詳...         華棋        訂製品   \n",
            "3     I3302教室整修工程，包含86平方公尺油漆、冷氣管路美化裝修、網路佈線共60點、27坪30...       詳驗收單        NaN   \n",
            "4     I5301自動光學檢測實驗室建置，包括配置220電壓/100安培、110V插座*10點、配電...         都邦        客製化   \n",
            "...                                                 ...        ...        ...   \n",
            "1030                                                 木製        NaN        NaN   \n",
            "1031                                                 木製        NaN        NaN   \n",
            "1032                                                 木製        NaN        NaN   \n",
            "1033                                     HU-150 (鋼木)150        NaN        NaN   \n",
            "1034                                             SP-03F        NaN        NaN   \n",
            "\n",
            "     Unnamed: 5 Unnamed: 6  崑山科技大學     資工系        財產清冊 Unnamed: 10  \\\n",
            "0           NaN        NaN     NaN     NaN         NaN         NaN   \n",
            "1            數量         單位      單價      總價        驗收日期        使用年限   \n",
            "2             1          式  153000  153000  2017/10/05           5   \n",
            "3             1          式  223700  223700  2018/10/04           5   \n",
            "4             1          式  214950  214950  2018/12/04          10   \n",
            "...         ...        ...     ...     ...         ...         ...   \n",
            "1030          1          張    5100    5100  2002/07/19           5   \n",
            "1031          1          張    5100    5100  2002/07/19           5   \n",
            "1032          1          個    7000    7000  2002/07/19           5   \n",
            "1033          6          張    5235   31410  2001/06/05           5   \n",
            "1034          9          張    1930   17370  1992/12/28           5   \n",
            "\n",
            "     Unnamed: 11    Unnamed: 12  \n",
            "0            NaN            NaN  \n",
            "1           會計項目           放置位置  \n",
            "2         133101    資工-多媒體網路實驗室  \n",
            "3         133101  資工-資訊與電腦視覺實習室  \n",
            "4         133101   資工-自動光學檢測實驗室  \n",
            "...          ...            ...  \n",
            "1030         999       資工-教師研究室  \n",
            "1031         999       資工-教師研究室  \n",
            "1032         999       資工-教師研究室  \n",
            "1033         999   資工-自動光學檢測實驗室  \n",
            "1034         999     資工-網管資安實習室  \n",
            "\n",
            "[1035 rows x 13 columns]\n"
          ]
        }
      ]
    }
  ]
}