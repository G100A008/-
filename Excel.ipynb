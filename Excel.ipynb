{
  "nbformat": 4,
  "nbformat_minor": 0,
  "metadata": {
    "colab": {
      "name": "AI DL 0225.ipynb",
      "provenance": [],
      "authorship_tag": "ABX9TyOtKmqiVa8CaGmW8j0Xcdsm",
      "include_colab_link": true
    },
    "kernelspec": {
      "name": "python3",
      "display_name": "Python 3"
    },
    "language_info": {
      "name": "python"
    },
    "gpuClass": "standard"
  },
  "cells": [
    {
      "cell_type": "markdown",
      "metadata": {
        "id": "view-in-github",
        "colab_type": "text"
      },
      "source": [
        "<a href=\"https://colab.research.google.com/github/G100A008/Python/blob/master/Excel.ipynb\" target=\"_parent\"><img src=\"https://colab.research.google.com/assets/colab-badge.svg\" alt=\"Open In Colab\"/></a>"
      ]
    },
    {
      "cell_type": "code",
      "source": [
        "import openpyxl\n",
        "wb = openpyxl.load_workbook('example.xlsx')\n",
        "type(wb)"
      ],
      "metadata": {
        "id": "szu-3pL6l4dy",
        "outputId": "ea7e0b37-ff2b-46f7-c9fc-63798523b2a8",
        "colab": {
          "base_uri": "https://localhost:8080/"
        }
      },
      "execution_count": 5,
      "outputs": [
        {
          "output_type": "execute_result",
          "data": {
            "text/plain": [
              "openpyxl.workbook.workbook.Workbook"
            ]
          },
          "metadata": {},
          "execution_count": 5
        }
      ]
    },
    {
      "cell_type": "code",
      "source": [
        "wb.sheetnames"
      ],
      "metadata": {
        "colab": {
          "base_uri": "https://localhost:8080/"
        },
        "id": "7ySDO3DqnD6R",
        "outputId": "5dba6c17-d9a8-4b88-edb7-ee0e01a7be9f"
      },
      "execution_count": 6,
      "outputs": [
        {
          "output_type": "execute_result",
          "data": {
            "text/plain": [
              "['Sheet1', 'Sheet2', 'Sheet3']"
            ]
          },
          "metadata": {},
          "execution_count": 6
        }
      ]
    },
    {
      "cell_type": "code",
      "source": [
        "sheet = wb['Sheet3']\n",
        "sheet"
      ],
      "metadata": {
        "colab": {
          "base_uri": "https://localhost:8080/"
        },
        "id": "d3DKx2jRnVSp",
        "outputId": "3b0b5417-aa8d-45d8-9a48-8f5e9f20e7a1"
      },
      "execution_count": 7,
      "outputs": [
        {
          "output_type": "execute_result",
          "data": {
            "text/plain": [
              "<Worksheet \"Sheet3\">"
            ]
          },
          "metadata": {},
          "execution_count": 7
        }
      ]
    },
    {
      "cell_type": "code",
      "source": [
        "type(sheet)"
      ],
      "metadata": {
        "colab": {
          "base_uri": "https://localhost:8080/"
        },
        "id": "YJzZkfPwoR2Y",
        "outputId": "5dca9812-ffe4-43d9-93f3-ddfae7cccd00"
      },
      "execution_count": 8,
      "outputs": [
        {
          "output_type": "execute_result",
          "data": {
            "text/plain": [
              "openpyxl.worksheet.worksheet.Worksheet"
            ]
          },
          "metadata": {},
          "execution_count": 8
        }
      ]
    },
    {
      "cell_type": "code",
      "source": [
        "sheet.title"
      ],
      "metadata": {
        "colab": {
          "base_uri": "https://localhost:8080/",
          "height": 35
        },
        "id": "PTe-jtfGoZiQ",
        "outputId": "1b0aff29-ae3d-4e54-c164-c7c38bd4a4cb"
      },
      "execution_count": 9,
      "outputs": [
        {
          "output_type": "execute_result",
          "data": {
            "text/plain": [
              "'Sheet3'"
            ],
            "application/vnd.google.colaboratory.intrinsic+json": {
              "type": "string"
            }
          },
          "metadata": {},
          "execution_count": 9
        }
      ]
    },
    {
      "cell_type": "code",
      "source": [
        "anotherSheet = wb.active\n",
        "anotherSheet"
      ],
      "metadata": {
        "colab": {
          "base_uri": "https://localhost:8080/"
        },
        "id": "_YiNxvfYocgv",
        "outputId": "682987d4-b9c3-4ad2-92ca-44207a60575e"
      },
      "execution_count": 10,
      "outputs": [
        {
          "output_type": "execute_result",
          "data": {
            "text/plain": [
              "<Worksheet \"Sheet1\">"
            ]
          },
          "metadata": {},
          "execution_count": 10
        }
      ]
    },
    {
      "cell_type": "code",
      "source": [
        "sheet = wb['Sheet1']\n",
        "sheet['A1']"
      ],
      "metadata": {
        "id": "zvQWt0AFsBMR",
        "outputId": "5da6a0d9-2630-49f3-83cd-04ff21642688",
        "colab": {
          "base_uri": "https://localhost:8080/"
        }
      },
      "execution_count": 11,
      "outputs": [
        {
          "output_type": "execute_result",
          "data": {
            "text/plain": [
              "<Cell 'Sheet1'.A1>"
            ]
          },
          "metadata": {},
          "execution_count": 11
        }
      ]
    },
    {
      "cell_type": "code",
      "source": [
        "sheet['A1'].value"
      ],
      "metadata": {
        "id": "AbgRp3tusqyq",
        "outputId": "16a21d84-588b-4559-c52e-a2f6dd0cce0a",
        "colab": {
          "base_uri": "https://localhost:8080/"
        }
      },
      "execution_count": 12,
      "outputs": [
        {
          "output_type": "execute_result",
          "data": {
            "text/plain": [
              "datetime.datetime(2015, 4, 5, 13, 34, 2)"
            ]
          },
          "metadata": {},
          "execution_count": 12
        }
      ]
    },
    {
      "cell_type": "code",
      "source": [
        "c = sheet['B1']\n",
        "c.value"
      ],
      "metadata": {
        "id": "cxXqM4WMtqMy",
        "outputId": "9751306d-119d-4928-e37d-34cfd31711d1",
        "colab": {
          "base_uri": "https://localhost:8080/",
          "height": 35
        }
      },
      "execution_count": 13,
      "outputs": [
        {
          "output_type": "execute_result",
          "data": {
            "text/plain": [
              "'Apples'"
            ],
            "application/vnd.google.colaboratory.intrinsic+json": {
              "type": "string"
            }
          },
          "metadata": {},
          "execution_count": 13
        }
      ]
    },
    {
      "cell_type": "code",
      "source": [
        "'Cell ' + c.coordinate + ' is ' + c.value"
      ],
      "metadata": {
        "id": "PgHKkZc0vC8h",
        "outputId": "799ce560-c184-4204-92ec-38f73910530a",
        "colab": {
          "base_uri": "https://localhost:8080/",
          "height": 35
        }
      },
      "execution_count": 14,
      "outputs": [
        {
          "output_type": "execute_result",
          "data": {
            "text/plain": [
              "'Cell B1 is Apples'"
            ],
            "application/vnd.google.colaboratory.intrinsic+json": {
              "type": "string"
            }
          },
          "metadata": {},
          "execution_count": 14
        }
      ]
    },
    {
      "cell_type": "code",
      "source": [
        "sheet['C1'].value"
      ],
      "metadata": {
        "id": "nk_elslVvCFC",
        "outputId": "d003b1a6-3d6f-4998-8b04-d0f4dbff3a73",
        "colab": {
          "base_uri": "https://localhost:8080/"
        }
      },
      "execution_count": 15,
      "outputs": [
        {
          "output_type": "execute_result",
          "data": {
            "text/plain": [
              "73"
            ]
          },
          "metadata": {},
          "execution_count": 15
        }
      ]
    },
    {
      "cell_type": "code",
      "source": [
        "sheet = wb['Sheet1']"
      ],
      "metadata": {
        "id": "SfjMtKmWvYTK"
      },
      "execution_count": 16,
      "outputs": []
    },
    {
      "cell_type": "code",
      "source": [
        "tuple(sheet['A1':'C3'])"
      ],
      "metadata": {
        "id": "P1LrNa6oveMS",
        "outputId": "57af4b09-918d-43e0-f9d1-5f8a62693a84",
        "colab": {
          "base_uri": "https://localhost:8080/"
        }
      },
      "execution_count": 17,
      "outputs": [
        {
          "output_type": "execute_result",
          "data": {
            "text/plain": [
              "((<Cell 'Sheet1'.A1>, <Cell 'Sheet1'.B1>, <Cell 'Sheet1'.C1>),\n",
              " (<Cell 'Sheet1'.A2>, <Cell 'Sheet1'.B2>, <Cell 'Sheet1'.C2>),\n",
              " (<Cell 'Sheet1'.A3>, <Cell 'Sheet1'.B3>, <Cell 'Sheet1'.C3>))"
            ]
          },
          "metadata": {},
          "execution_count": 17
        }
      ]
    },
    {
      "cell_type": "code",
      "source": [
        "for rowOfCellObjects in sheet['A1':'C3']:\n",
        "  for cellObj in rowOfCellObjects:\n",
        "    print(cellObj.coordinate, cellObj.value)\n",
        "    print('--- END OF ROW ---')"
      ],
      "metadata": {
        "id": "4bI6hkSjv-Xx",
        "outputId": "906a0304-37c7-4dd9-eea0-2975e15bca12",
        "colab": {
          "base_uri": "https://localhost:8080/"
        }
      },
      "execution_count": 18,
      "outputs": [
        {
          "output_type": "stream",
          "name": "stdout",
          "text": [
            "A1 2015-04-05 13:34:02\n",
            "--- END OF ROW ---\n",
            "B1 Apples\n",
            "--- END OF ROW ---\n",
            "C1 73\n",
            "--- END OF ROW ---\n",
            "A2 2015-04-05 03:41:23\n",
            "--- END OF ROW ---\n",
            "B2 Cherries\n",
            "--- END OF ROW ---\n",
            "C2 85\n",
            "--- END OF ROW ---\n",
            "A3 2015-04-06 12:46:51\n",
            "--- END OF ROW ---\n",
            "B3 Pears\n",
            "--- END OF ROW ---\n",
            "C3 14\n",
            "--- END OF ROW ---\n"
          ]
        }
      ]
    },
    {
      "cell_type": "code",
      "source": [
        "for rowOfCellObjects in sheet['A1':'C3']:\n",
        "  print(rowOfCellObjects)"
      ],
      "metadata": {
        "id": "Jaeq9W5xxDI5",
        "outputId": "711296df-c393-4464-d999-2df5d922c703",
        "colab": {
          "base_uri": "https://localhost:8080/"
        }
      },
      "execution_count": 21,
      "outputs": [
        {
          "output_type": "stream",
          "name": "stdout",
          "text": [
            "(<Cell 'Sheet1'.A1>, <Cell 'Sheet1'.B1>, <Cell 'Sheet1'.C1>)\n",
            "(<Cell 'Sheet1'.A2>, <Cell 'Sheet1'.B2>, <Cell 'Sheet1'.C2>)\n",
            "(<Cell 'Sheet1'.A3>, <Cell 'Sheet1'.B3>, <Cell 'Sheet1'.C3>)\n"
          ]
        }
      ]
    }
  ]
}