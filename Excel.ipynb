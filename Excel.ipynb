{
  "nbformat": 4,
  "nbformat_minor": 0,
  "metadata": {
    "colab": {
      "name": "AI DL 0225.ipynb",
      "provenance": [],
      "authorship_tag": "ABX9TyMfvfXFij14eqwJMexr0F5G",
      "include_colab_link": true
    },
    "kernelspec": {
      "name": "python3",
      "display_name": "Python 3"
    },
    "language_info": {
      "name": "python"
    },
    "accelerator": "GPU"
  },
  "cells": [
    {
      "cell_type": "markdown",
      "metadata": {
        "id": "view-in-github",
        "colab_type": "text"
      },
      "source": [
        "<a href=\"https://colab.research.google.com/github/G100A008/Python/blob/master/Excel.ipynb\" target=\"_parent\"><img src=\"https://colab.research.google.com/assets/colab-badge.svg\" alt=\"Open In Colab\"/></a>"
      ]
    },
    {
      "cell_type": "code",
      "source": [
        "import openpyxl\n",
        "wb = openpyxl.load_workbook('example.xlsx')"
      ],
      "metadata": {
        "id": "szu-3pL6l4dy"
      },
      "execution_count": 6,
      "outputs": []
    },
    {
      "cell_type": "code",
      "source": [
        "type(wb)"
      ],
      "metadata": {
        "id": "B9dcBI46mTsi",
        "outputId": "d4ec22bd-f9f2-4759-e0a7-c65d3d5108fb",
        "colab": {
          "base_uri": "https://localhost:8080/"
        }
      },
      "execution_count": 7,
      "outputs": [
        {
          "output_type": "execute_result",
          "data": {
            "text/plain": [
              "openpyxl.workbook.workbook.Workbook"
            ]
          },
          "metadata": {},
          "execution_count": 7
        }
      ]
    },
    {
      "cell_type": "code",
      "source": [
        "wb.get_sheet_names()"
      ],
      "metadata": {
        "id": "7ySDO3DqnD6R",
        "outputId": "ccc52f22-dce3-43f6-ae89-5055c258d020",
        "colab": {
          "base_uri": "https://localhost:8080/"
        }
      },
      "execution_count": 11,
      "outputs": [
        {
          "output_type": "stream",
          "name": "stderr",
          "text": [
            "<ipython-input-11-0c3501b17491>:1: DeprecationWarning: Call to deprecated function get_sheet_names (Use wb.sheetnames).\n",
            "  wb.get_sheet_names()\n"
          ]
        },
        {
          "output_type": "execute_result",
          "data": {
            "text/plain": [
              "['Sheet1', 'Sheet2', 'Sheet3']"
            ]
          },
          "metadata": {},
          "execution_count": 11
        }
      ]
    },
    {
      "cell_type": "code",
      "source": [
        "sheet = wb.get_sheet_by_name('Sheet3')\n",
        "sheet"
      ],
      "metadata": {
        "id": "d3DKx2jRnVSp",
        "outputId": "8df340e0-281c-49a6-e408-e52f7256840f",
        "colab": {
          "base_uri": "https://localhost:8080/"
        }
      },
      "execution_count": 19,
      "outputs": [
        {
          "output_type": "stream",
          "name": "stderr",
          "text": [
            "<ipython-input-19-cfd902828153>:1: DeprecationWarning: Call to deprecated function get_sheet_by_name (Use wb[sheetname]).\n",
            "  sheet = wb.get_sheet_by_name('Sheet3')\n"
          ]
        },
        {
          "output_type": "execute_result",
          "data": {
            "text/plain": [
              "<Worksheet \"Sheet3\">"
            ]
          },
          "metadata": {},
          "execution_count": 19
        }
      ]
    },
    {
      "cell_type": "code",
      "source": [
        "type(sheet)"
      ],
      "metadata": {
        "id": "YJzZkfPwoR2Y",
        "outputId": "539f7711-bddb-48c5-deec-c1c3fd775f18",
        "colab": {
          "base_uri": "https://localhost:8080/"
        }
      },
      "execution_count": 20,
      "outputs": [
        {
          "output_type": "execute_result",
          "data": {
            "text/plain": [
              "openpyxl.worksheet.worksheet.Worksheet"
            ]
          },
          "metadata": {},
          "execution_count": 20
        }
      ]
    },
    {
      "cell_type": "code",
      "source": [
        "sheet.title"
      ],
      "metadata": {
        "id": "PTe-jtfGoZiQ",
        "outputId": "f52e554a-525b-4c0b-c941-88b1f9095846",
        "colab": {
          "base_uri": "https://localhost:8080/",
          "height": 35
        }
      },
      "execution_count": 24,
      "outputs": [
        {
          "output_type": "execute_result",
          "data": {
            "text/plain": [
              "'Sheet3'"
            ],
            "application/vnd.google.colaboratory.intrinsic+json": {
              "type": "string"
            }
          },
          "metadata": {},
          "execution_count": 24
        }
      ]
    },
    {
      "cell_type": "code",
      "source": [
        "anotherSheet = wb.active\n",
        "anotherSheet"
      ],
      "metadata": {
        "id": "_YiNxvfYocgv",
        "outputId": "ef2e01f1-af2b-4bbe-fe21-d50bade0ba11",
        "colab": {
          "base_uri": "https://localhost:8080/"
        }
      },
      "execution_count": 26,
      "outputs": [
        {
          "output_type": "execute_result",
          "data": {
            "text/plain": [
              "<Worksheet \"Sheet1\">"
            ]
          },
          "metadata": {},
          "execution_count": 26
        }
      ]
    }
  ]
}